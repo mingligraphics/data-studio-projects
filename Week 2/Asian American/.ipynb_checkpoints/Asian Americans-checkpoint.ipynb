{
 "cells": [
  {
   "cell_type": "code",
   "execution_count": null,
   "metadata": {},
   "outputs": [],
   "source": [
    "import pandas as pd\n",
    "import seaborn as sns\n",
    "import matplotlib\n",
    "import matplotlib.pyplot as plt\n",
    "import altair as alt\n",
    "import numpy as np\n",
    "matplotlib.rcParams['pdf.fonttype'] = 42"
   ]
  },
  {
   "cell_type": "code",
   "execution_count": null,
   "metadata": {},
   "outputs": [],
   "source": [
    "merged = pd.read_csv(\"9.csv\")\n",
    "merged.columns = merged.iloc[0]\n",
    "merged = merged[1:]\n",
    "merged = merged.iloc[:,2:4]\n",
    "merged.rename(columns={'Estimate; Total:':'2009'}, inplace=True)\n",
    "merged"
   ]
  },
  {
   "cell_type": "code",
   "execution_count": null,
   "metadata": {},
   "outputs": [],
   "source": [
    "for n in range(10, 18):\n",
    "    df = pd.read_csv(str(n) +\".csv\")\n",
    "    df.columns = df.iloc[0]\n",
    "    df = df[1:]\n",
    "    df = df.iloc[:,2:4]\n",
    "    df.rename(columns={'Estimate; Total:':\"20\" + str(n)}, inplace=True)\n",
    "    merged = pd.merge(merged, df)\n",
    "merged"
   ]
  },
  {
   "cell_type": "code",
   "execution_count": null,
   "metadata": {},
   "outputs": [],
   "source": [
    "merged[['2009','2010','2011','2012','2013','2014','2015','2016','2017']] = merged[['2009','2010','2011','2012','2013','2014','2015','2016','2017']].astype(int)"
   ]
  },
  {
   "cell_type": "code",
   "execution_count": null,
   "metadata": {},
   "outputs": [],
   "source": [
    "merged.sort_values(by=\"2017\", ascending=False)"
   ]
  },
  {
   "cell_type": "code",
   "execution_count": null,
   "metadata": {},
   "outputs": [],
   "source": [
    "merged['growth_rate'] = 100 * (merged['2017']-merged['2009']) / merged['2009']"
   ]
  },
  {
   "cell_type": "code",
   "execution_count": null,
   "metadata": {},
   "outputs": [],
   "source": [
    "merged.sort_values(by='growth_rate',ascending=False)"
   ]
  },
  {
   "cell_type": "code",
   "execution_count": null,
   "metadata": {},
   "outputs": [],
   "source": [
    "# merged = merged.T"
   ]
  },
  {
   "cell_type": "code",
   "execution_count": null,
   "metadata": {},
   "outputs": [],
   "source": [
    "# merged.columns = merged.iloc[0]"
   ]
  },
  {
   "cell_type": "code",
   "execution_count": null,
   "metadata": {},
   "outputs": [],
   "source": [
    "# merged = merged[1:]"
   ]
  },
  {
   "cell_type": "code",
   "execution_count": null,
   "metadata": {},
   "outputs": [],
   "source": [
    "# merged = merged.astype(int)\n",
    "# merged.sort_values(by=\"2009\", ascending=False).head()"
   ]
  },
  {
   "cell_type": "code",
   "execution_count": null,
   "metadata": {},
   "outputs": [],
   "source": [
    "# for n in range(0, 52):\n",
    "#     ax = merged.loc[[n]].plot(kind=\"bar\", figsize=(2, 2), colors=\"lightgreen\")\n",
    "#     ax.grid('on', which='major', linestyle='-', linewidth='0.5', color='lightgrey')\n",
    "# # ax.set_xticks([2007, 2008, 2009, 2010, 2011, 2012, 2013, 2014, 2015, 2016, 2017])\n",
    "#     ax.set_ylim(2000,5600000)\n",
    "#     ax.set_xticks([])\n",
    "#     ax.set_yticks([])\n",
    "#     ax.get_legend().remove()\n",
    "#     plt.savefig(str(n) + \".pdf\")\n",
    "    \n"
   ]
  },
  {
   "cell_type": "code",
   "execution_count": null,
   "metadata": {},
   "outputs": [],
   "source": [
    "df_total = pd.read_csv(\"Total.csv\")"
   ]
  },
  {
   "cell_type": "code",
   "execution_count": null,
   "metadata": {},
   "outputs": [],
   "source": [
    "df_total.columns = df_total.iloc[0]"
   ]
  },
  {
   "cell_type": "code",
   "execution_count": null,
   "metadata": {},
   "outputs": [],
   "source": [
    "df_total = df_total[1:]"
   ]
  },
  {
   "cell_type": "code",
   "execution_count": null,
   "metadata": {},
   "outputs": [],
   "source": [
    "df_total = df_total.iloc[:,2:]\n",
    "df_total"
   ]
  },
  {
   "cell_type": "code",
   "execution_count": null,
   "metadata": {},
   "outputs": [],
   "source": [
    "merged = pd.merge(merged, df_total)\n",
    "merged"
   ]
  },
  {
   "cell_type": "code",
   "execution_count": null,
   "metadata": {},
   "outputs": [],
   "source": [
    "merged.dtypes"
   ]
  },
  {
   "cell_type": "code",
   "execution_count": null,
   "metadata": {},
   "outputs": [],
   "source": [
    "merged[['April 1, 2010 - Census',\n",
    "'April 1, 2010 - Estimates Base',\n",
    "'Population Estimate (as of July 1) - 2010',\n",
    "'Population Estimate (as of July 1) - 2011',\n",
    "'Population Estimate (as of July 1) - 2012',\n",
    "'Population Estimate (as of July 1) - 2013',\n",
    "'Population Estimate (as of July 1) - 2014',\n",
    "'Population Estimate (as of July 1) - 2015',\n",
    "'Population Estimate (as of July 1) - 2016',\n",
    "'Population Estimate (as of July 1) - 2017',\n",
    "'Population Estimate (as of July 1) - 2018' ]] = merged[['April 1, 2010 - Census',\n",
    "'April 1, 2010 - Estimates Base',\n",
    "'Population Estimate (as of July 1) - 2010',\n",
    "'Population Estimate (as of July 1) - 2011',\n",
    "'Population Estimate (as of July 1) - 2012',\n",
    "'Population Estimate (as of July 1) - 2013',\n",
    "'Population Estimate (as of July 1) - 2014',\n",
    "'Population Estimate (as of July 1) - 2015',\n",
    "'Population Estimate (as of July 1) - 2016',\n",
    "'Population Estimate (as of July 1) - 2017',\n",
    "'Population Estimate (as of July 1) - 2018' ]].astype(int)"
   ]
  },
  {
   "cell_type": "code",
   "execution_count": null,
   "metadata": {},
   "outputs": [],
   "source": [
    "merged['2009_pct'] = 100 * merged['2009'] / merged['April 1, 2010 - Estimates Base']"
   ]
  },
  {
   "cell_type": "code",
   "execution_count": null,
   "metadata": {},
   "outputs": [],
   "source": [
    "merged['2010_pct'] = 100 * merged['2010'] / merged['Population Estimate (as of July 1) - 2010']\n",
    "merged['2011_pct'] = 100 * merged['2011'] / merged['Population Estimate (as of July 1) - 2011']\n",
    "merged['2012_pct'] = 100 * merged['2012'] / merged['Population Estimate (as of July 1) - 2012']\n",
    "merged['2013_pct'] = 100 * merged['2013'] / merged['Population Estimate (as of July 1) - 2013']\n",
    "merged['2014_pct'] = 100 * merged['2014'] / merged['Population Estimate (as of July 1) - 2014']\n",
    "merged['2015_pct'] = 100 * merged['2015'] / merged['Population Estimate (as of July 1) - 2015']\n",
    "merged['2016_pct'] = 100 * merged['2016'] / merged['Population Estimate (as of July 1) - 2016']\n",
    "merged['2017_pct'] = 100 * merged['2017'] / merged['Population Estimate (as of July 1) - 2017']"
   ]
  },
  {
   "cell_type": "code",
   "execution_count": null,
   "metadata": {},
   "outputs": [],
   "source": [
    "merged = merged.sort_values(by=\"2009_pct\", ascending=False).reset_index()"
   ]
  },
  {
   "cell_type": "code",
   "execution_count": null,
   "metadata": {},
   "outputs": [],
   "source": [
    "merged_pct = merged[[\"Geography\",\"2009_pct\",\"2010_pct\",\"2011_pct\",\"2012_pct\",\"2013_pct\",\"2014_pct\",\"2015_pct\",\"2016_pct\",\"2017_pct\"]]"
   ]
  },
  {
   "cell_type": "code",
   "execution_count": null,
   "metadata": {},
   "outputs": [],
   "source": [
    "merged_pct"
   ]
  },
  {
   "cell_type": "code",
   "execution_count": null,
   "metadata": {},
   "outputs": [],
   "source": [
    "merged_pct['avg_pct'] = merged_pct['2009_pct'],merged_pct['2010_pct'],merged_pct['2011_pct'],merged_pct['2012_pct'],'2013_pct','2014_pct','2015_pct','2016_pct','2017_pct']].mean()"
   ]
  },
  {
   "cell_type": "code",
   "execution_count": null,
   "metadata": {},
   "outputs": [],
   "source": [
    "merged_pct['avg_pct']"
   ]
  },
  {
   "cell_type": "code",
   "execution_count": null,
   "metadata": {},
   "outputs": [],
   "source": [
    "merged_pct['2010_rate'] = 100 * (merged_pct['2010_pct'] - merged_pct['2009_pct']) / merged_pct['2009_pct']\n",
    "merged_pct['2011_rate'] = 100 * (merged_pct['2011_pct'] - merged_pct['2010_pct']) / merged_pct['2010_pct']\n",
    "merged_pct['2012_rate'] = 100 * (merged_pct['2012_pct'] - merged_pct['2011_pct']) / merged_pct['2011_pct']\n",
    "merged_pct['2013_rate'] = 100 * (merged_pct['2013_pct'] - merged_pct['2012_pct']) / merged_pct['2012_pct']\n",
    "merged_pct['2014_rate'] = 100 * (merged_pct['2014_pct'] - merged_pct['2013_pct']) / merged_pct['2013_pct']\n",
    "merged_pct['2015_rate'] = 100 * (merged_pct['2015_pct'] - merged_pct['2014_pct']) / merged_pct['2014_pct']\n",
    "merged_pct['2016_rate'] = 100 * (merged_pct['2016_pct'] - merged_pct['2015_pct']) / merged_pct['2015_pct']\n",
    "merged_pct['2017_rate'] = 100 * (merged_pct['2017_pct'] - merged_pct['2016_pct']) / merged_pct['2016_pct']\n",
    "\n",
    "merged_rate = merged_pct[[\"Geography\",\"2012_rate\",\"2013_rate\",\"2014_rate\",\"2015_rate\",\"2016_rate\",\"2017_rate\"]]\n"
   ]
  },
  {
   "cell_type": "code",
   "execution_count": null,
   "metadata": {},
   "outputs": [],
   "source": [
    "merged_rate = merged_rate.sort_values(by=\"2017_rate\", ascending=False).head(10).reset_index()\n"
   ]
  },
  {
   "cell_type": "code",
   "execution_count": null,
   "metadata": {},
   "outputs": [],
   "source": [
    "del merged_rate['index']"
   ]
  },
  {
   "cell_type": "code",
   "execution_count": null,
   "metadata": {},
   "outputs": [],
   "source": [
    "merged_rate = merged_rate.T\n",
    "merged_rate.columns = merged_rate.iloc[0]"
   ]
  },
  {
   "cell_type": "code",
   "execution_count": null,
   "metadata": {},
   "outputs": [],
   "source": [
    "merged_rate = merged_rate[1:]"
   ]
  },
  {
   "cell_type": "code",
   "execution_count": null,
   "metadata": {},
   "outputs": [],
   "source": [
    "merged_rate"
   ]
  },
  {
   "cell_type": "code",
   "execution_count": null,
   "metadata": {},
   "outputs": [],
   "source": [
    "for n in range(0, 10):\n",
    "    ax = merged_rate.iloc[:,[n]].plot( kind='bar',figsize=(2, 2), colors='green', width=0.5)\n",
    "# ax.set_xticks([2007, 2008, 2009, 2010, 2011, 2012, 2013, 2014, 2015, 2016, 2017])\n",
    "    ax.set_ylim(-2,10)\n",
    "    ax.get_legend().remove()\n",
    "    ax.set_xticks([])\n",
    "    ax.set_yticks([])\n",
    "    plt.savefig(str(n) + \".eps\")"
   ]
  },
  {
   "cell_type": "code",
   "execution_count": null,
   "metadata": {},
   "outputs": [],
   "source": []
  },
  {
   "cell_type": "code",
   "execution_count": null,
   "metadata": {},
   "outputs": [],
   "source": []
  }
 ],
 "metadata": {
  "kernelspec": {
   "display_name": "Python 3",
   "language": "python",
   "name": "python3"
  },
  "language_info": {
   "codemirror_mode": {
    "name": "ipython",
    "version": 3
   },
   "file_extension": ".py",
   "mimetype": "text/x-python",
   "name": "python",
   "nbconvert_exporter": "python",
   "pygments_lexer": "ipython3",
   "version": "3.7.1"
  }
 },
 "nbformat": 4,
 "nbformat_minor": 2
}
