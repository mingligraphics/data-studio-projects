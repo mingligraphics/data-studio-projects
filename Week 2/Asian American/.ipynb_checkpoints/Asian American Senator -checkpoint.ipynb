{
 "cells": [
  {
   "cell_type": "code",
   "execution_count": 1,
   "metadata": {},
   "outputs": [],
   "source": [
    "import pandas as pd\n",
    "import seaborn as sns\n",
    "import matplotlib\n",
    "import matplotlib.pyplot as plt\n",
    "import altair as alt\n",
    "import numpy as np\n",
    "matplotlib.rcParams['pdf.fonttype'] = 42"
   ]
  },
  {
   "cell_type": "code",
   "execution_count": 2,
   "metadata": {},
   "outputs": [],
   "source": [
    "import requests\n",
    "import re\n",
    "\n",
    "from bs4 import BeautifulSoup"
   ]
  },
  {
   "cell_type": "code",
   "execution_count": 3,
   "metadata": {},
   "outputs": [],
   "source": [
    "url = \"https://en.wikipedia.org/wiki/List_of_Asian_Americans_and_Pacific_Islands_Americans_in_the_United_States_Congress\"\n",
    "\n",
    "response = requests.get(url)\n",
    "doc = BeautifulSoup(response.text)  "
   ]
  },
  {
   "cell_type": "code",
   "execution_count": 4,
   "metadata": {},
   "outputs": [],
   "source": [
    "rows = []\n",
    "senators = doc.find_all(\"tbody\")[0]\n",
    "for senator in senators:\n",
    "    row = {}\n",
    "    try:\n",
    "        row['name'] = senator.find_all('span')[1].text\n",
    "    except:\n",
    "        pass\n",
    "    try:\n",
    "        row['start_date'] = senator.find_all('span')[4].text\n",
    "    except:\n",
    "        pass\n",
    "    try:\n",
    "        row['end_date'] = senator.find_all('span')[5].text\n",
    "    except:\n",
    "        pass\n",
    "#         row['start_date'] = senator.find()\n",
    "    rows.append(row)"
   ]
  },
  {
   "cell_type": "code",
   "execution_count": 5,
   "metadata": {},
   "outputs": [
    {
     "data": {
      "text/plain": [
       "[{},\n",
       " {},\n",
       " {'name': 'Hiram Fong',\n",
       "  'start_date': 'August 21, 1959',\n",
       "  'end_date': 'January 3, 1977'},\n",
       " {},\n",
       " {'name': 'Daniel Inouye',\n",
       "  'start_date': 'January 3, 1963',\n",
       "  'end_date': 'December 17, 2012'},\n",
       " {},\n",
       " {'name': 'S. I. Hayakawa',\n",
       "  'start_date': 'January 2, 1977',\n",
       "  'end_date': 'January 3, 1983'},\n",
       " {},\n",
       " {'name': 'Spark Matsunaga',\n",
       "  'start_date': 'January 3, 1977',\n",
       "  'end_date': 'April 15, 1990'},\n",
       " {},\n",
       " {'name': 'Daniel Akaka',\n",
       "  'start_date': 'May 16, 1990',\n",
       "  'end_date': 'January 3, 2013'},\n",
       " {},\n",
       " {'name': 'John Ensign',\n",
       "  'start_date': 'January 3, 2001',\n",
       "  'end_date': 'May 3, 2011'},\n",
       " {},\n",
       " {'name': 'Mazie Hirono', 'start_date': 'January 3, 2013'},\n",
       " {},\n",
       " {'name': 'Tammy Duckworth',\n",
       "  'start_date': '(born 1968)',\n",
       "  'end_date': 'January 3, 2017'},\n",
       " {},\n",
       " {'name': 'Kamala Harris', 'start_date': 'January 3, 2017'}]"
      ]
     },
     "execution_count": 5,
     "metadata": {},
     "output_type": "execute_result"
    }
   ],
   "source": [
    "rows"
   ]
  },
  {
   "cell_type": "code",
   "execution_count": 6,
   "metadata": {},
   "outputs": [],
   "source": [
    "df = pd.DataFrame(rows)"
   ]
  },
  {
   "cell_type": "code",
   "execution_count": 7,
   "metadata": {},
   "outputs": [],
   "source": [
    "df = df.dropna(subset=[\"name\"]).reset_index()"
   ]
  },
  {
   "cell_type": "code",
   "execution_count": 8,
   "metadata": {},
   "outputs": [],
   "source": [
    "df = df[['name','start_date','end_date']]"
   ]
  },
  {
   "cell_type": "code",
   "execution_count": 9,
   "metadata": {},
   "outputs": [
    {
     "data": {
      "text/html": [
       "<div>\n",
       "<style scoped>\n",
       "    .dataframe tbody tr th:only-of-type {\n",
       "        vertical-align: middle;\n",
       "    }\n",
       "\n",
       "    .dataframe tbody tr th {\n",
       "        vertical-align: top;\n",
       "    }\n",
       "\n",
       "    .dataframe thead th {\n",
       "        text-align: right;\n",
       "    }\n",
       "</style>\n",
       "<table border=\"1\" class=\"dataframe\">\n",
       "  <thead>\n",
       "    <tr style=\"text-align: right;\">\n",
       "      <th></th>\n",
       "      <th>name</th>\n",
       "      <th>start_date</th>\n",
       "      <th>end_date</th>\n",
       "    </tr>\n",
       "  </thead>\n",
       "  <tbody>\n",
       "    <tr>\n",
       "      <th>0</th>\n",
       "      <td>Hiram Fong</td>\n",
       "      <td>August 21, 1959</td>\n",
       "      <td>January 3, 1977</td>\n",
       "    </tr>\n",
       "    <tr>\n",
       "      <th>1</th>\n",
       "      <td>Daniel Inouye</td>\n",
       "      <td>January 3, 1963</td>\n",
       "      <td>December 17, 2012</td>\n",
       "    </tr>\n",
       "    <tr>\n",
       "      <th>2</th>\n",
       "      <td>S. I. Hayakawa</td>\n",
       "      <td>January 2, 1977</td>\n",
       "      <td>January 3, 1983</td>\n",
       "    </tr>\n",
       "    <tr>\n",
       "      <th>3</th>\n",
       "      <td>Spark Matsunaga</td>\n",
       "      <td>January 3, 1977</td>\n",
       "      <td>April 15, 1990</td>\n",
       "    </tr>\n",
       "    <tr>\n",
       "      <th>4</th>\n",
       "      <td>Daniel Akaka</td>\n",
       "      <td>May 16, 1990</td>\n",
       "      <td>January 3, 2013</td>\n",
       "    </tr>\n",
       "    <tr>\n",
       "      <th>5</th>\n",
       "      <td>John Ensign</td>\n",
       "      <td>January 3, 2001</td>\n",
       "      <td>May 3, 2011</td>\n",
       "    </tr>\n",
       "    <tr>\n",
       "      <th>6</th>\n",
       "      <td>Mazie Hirono</td>\n",
       "      <td>January 3, 2013</td>\n",
       "      <td>NaN</td>\n",
       "    </tr>\n",
       "    <tr>\n",
       "      <th>7</th>\n",
       "      <td>Tammy Duckworth</td>\n",
       "      <td>(born 1968)</td>\n",
       "      <td>January 3, 2017</td>\n",
       "    </tr>\n",
       "    <tr>\n",
       "      <th>8</th>\n",
       "      <td>Kamala Harris</td>\n",
       "      <td>January 3, 2017</td>\n",
       "      <td>NaN</td>\n",
       "    </tr>\n",
       "  </tbody>\n",
       "</table>\n",
       "</div>"
      ],
      "text/plain": [
       "              name       start_date           end_date\n",
       "0       Hiram Fong  August 21, 1959    January 3, 1977\n",
       "1    Daniel Inouye  January 3, 1963  December 17, 2012\n",
       "2   S. I. Hayakawa  January 2, 1977    January 3, 1983\n",
       "3  Spark Matsunaga  January 3, 1977     April 15, 1990\n",
       "4     Daniel Akaka     May 16, 1990    January 3, 2013\n",
       "5      John Ensign  January 3, 2001        May 3, 2011\n",
       "6     Mazie Hirono  January 3, 2013                NaN\n",
       "7  Tammy Duckworth      (born 1968)    January 3, 2017\n",
       "8    Kamala Harris  January 3, 2017                NaN"
      ]
     },
     "execution_count": 9,
     "metadata": {},
     "output_type": "execute_result"
    }
   ],
   "source": [
    "df"
   ]
  },
  {
   "cell_type": "code",
   "execution_count": 10,
   "metadata": {},
   "outputs": [],
   "source": [
    "df['start_date'].replace(\n",
    "    to_replace=['(born 1968)'],\n",
    "    value='January 3, 2017',\n",
    "    inplace=True\n",
    ")"
   ]
  },
  {
   "cell_type": "code",
   "execution_count": 11,
   "metadata": {},
   "outputs": [],
   "source": [
    "df['end_date'].replace(\n",
    "    to_replace=['January 3, 2017'],\n",
    "    value=['December 30, 2020'],\n",
    "    inplace=True \n",
    ")\n",
    "    "
   ]
  },
  {
   "cell_type": "code",
   "execution_count": 12,
   "metadata": {},
   "outputs": [],
   "source": [
    "df = df.fillna(\"December 30, 2020\")"
   ]
  },
  {
   "cell_type": "code",
   "execution_count": 13,
   "metadata": {},
   "outputs": [],
   "source": [
    "df['start_date'] = df['start_date'].str.extract(r\", (.*)\")\n",
    "df['end_date'] = df['end_date'].str.extract(r\", (.*)\")"
   ]
  },
  {
   "cell_type": "code",
   "execution_count": 14,
   "metadata": {},
   "outputs": [],
   "source": [
    "# df['start_date'] = pd.to_datetime(df['start_date'].str.strip(), format='%B %d, %Y', errors='coerce')"
   ]
  },
  {
   "cell_type": "code",
   "execution_count": 15,
   "metadata": {},
   "outputs": [],
   "source": [
    "# df['end_date'] = pd.to_datetime(df['end_date'].str.strip(), format='%B %d, %Y', errors='coerce')"
   ]
  },
  {
   "cell_type": "code",
   "execution_count": 16,
   "metadata": {},
   "outputs": [],
   "source": [
    "df['start_date'] = df['start_date'].astype(int)\n",
    "df['end_date'] = df['end_date'].astype(int)"
   ]
  },
  {
   "cell_type": "code",
   "execution_count": 17,
   "metadata": {},
   "outputs": [
    {
     "data": {
      "text/html": [
       "<div>\n",
       "<style scoped>\n",
       "    .dataframe tbody tr th:only-of-type {\n",
       "        vertical-align: middle;\n",
       "    }\n",
       "\n",
       "    .dataframe tbody tr th {\n",
       "        vertical-align: top;\n",
       "    }\n",
       "\n",
       "    .dataframe thead th {\n",
       "        text-align: right;\n",
       "    }\n",
       "</style>\n",
       "<table border=\"1\" class=\"dataframe\">\n",
       "  <thead>\n",
       "    <tr style=\"text-align: right;\">\n",
       "      <th></th>\n",
       "      <th>name</th>\n",
       "      <th>start_date</th>\n",
       "      <th>end_date</th>\n",
       "    </tr>\n",
       "  </thead>\n",
       "  <tbody>\n",
       "    <tr>\n",
       "      <th>0</th>\n",
       "      <td>Hiram Fong</td>\n",
       "      <td>1959</td>\n",
       "      <td>1977</td>\n",
       "    </tr>\n",
       "    <tr>\n",
       "      <th>1</th>\n",
       "      <td>Daniel Inouye</td>\n",
       "      <td>1963</td>\n",
       "      <td>2012</td>\n",
       "    </tr>\n",
       "    <tr>\n",
       "      <th>2</th>\n",
       "      <td>S. I. Hayakawa</td>\n",
       "      <td>1977</td>\n",
       "      <td>1983</td>\n",
       "    </tr>\n",
       "    <tr>\n",
       "      <th>3</th>\n",
       "      <td>Spark Matsunaga</td>\n",
       "      <td>1977</td>\n",
       "      <td>1990</td>\n",
       "    </tr>\n",
       "    <tr>\n",
       "      <th>4</th>\n",
       "      <td>Daniel Akaka</td>\n",
       "      <td>1990</td>\n",
       "      <td>2013</td>\n",
       "    </tr>\n",
       "    <tr>\n",
       "      <th>5</th>\n",
       "      <td>John Ensign</td>\n",
       "      <td>2001</td>\n",
       "      <td>2011</td>\n",
       "    </tr>\n",
       "    <tr>\n",
       "      <th>6</th>\n",
       "      <td>Mazie Hirono</td>\n",
       "      <td>2013</td>\n",
       "      <td>2020</td>\n",
       "    </tr>\n",
       "    <tr>\n",
       "      <th>7</th>\n",
       "      <td>Tammy Duckworth</td>\n",
       "      <td>2017</td>\n",
       "      <td>2020</td>\n",
       "    </tr>\n",
       "    <tr>\n",
       "      <th>8</th>\n",
       "      <td>Kamala Harris</td>\n",
       "      <td>2017</td>\n",
       "      <td>2020</td>\n",
       "    </tr>\n",
       "  </tbody>\n",
       "</table>\n",
       "</div>"
      ],
      "text/plain": [
       "              name  start_date  end_date\n",
       "0       Hiram Fong        1959      1977\n",
       "1    Daniel Inouye        1963      2012\n",
       "2   S. I. Hayakawa        1977      1983\n",
       "3  Spark Matsunaga        1977      1990\n",
       "4     Daniel Akaka        1990      2013\n",
       "5      John Ensign        2001      2011\n",
       "6     Mazie Hirono        2013      2020\n",
       "7  Tammy Duckworth        2017      2020\n",
       "8    Kamala Harris        2017      2020"
      ]
     },
     "execution_count": 17,
     "metadata": {},
     "output_type": "execute_result"
    }
   ],
   "source": [
    "df"
   ]
  },
  {
   "cell_type": "code",
   "execution_count": 18,
   "metadata": {},
   "outputs": [],
   "source": [
    "# fig, ax = plt.subplots()\n",
    "# df.reset_index().plot(ax =ax, x='start_date', y= 'index', style='o')\n",
    "# ax.set_xlim([1955,2020])\n"
   ]
  },
  {
   "cell_type": "code",
   "execution_count": 19,
   "metadata": {},
   "outputs": [
    {
     "data": {
      "image/png": "[encoded data removed]",
      "text/plain": [
       "<Figure size 432x288 with 1 Axes>"
      ]
     },
     "metadata": {
      "needs_background": "light"
     },
     "output_type": "display_data"
    }
   ],
   "source": [
    "fig, ax = plt.subplots()\n",
    "ax.hlines(xmin=df['start_date'], xmax=df['end_date'], y=df.index)\n",
    "ax.scatter(x=df['start_date'], y=df.index, facecolors='none', edgecolors='black')\n",
    "ax.scatter(x=df['end_date'], y=df.index,color='black')\n",
    "ax.set_yticks(df.index)\n",
    "ax.yaxis.set_ticklabels(df['name'])\n",
    "ax.grid('on', axis='x', which='major', linestyle='-', linewidth='0.5', color='lightgrey')\n",
    "plt.savefig(\"Senator.svg\",bbox_inches = 'tight')"
   ]
  },
  {
   "cell_type": "code",
   "execution_count": null,
   "metadata": {},
   "outputs": [],
   "source": []
  }
 ],
 "metadata": {
  "kernelspec": {
   "display_name": "Python 3",
   "language": "python",
   "name": "python3"
  },
  "language_info": {
   "codemirror_mode": {
    "name": "ipython",
    "version": 3
   },
   "file_extension": ".py",
   "mimetype": "text/x-python",
   "name": "python",
   "nbconvert_exporter": "python",
   "pygments_lexer": "ipython3",
   "version": "3.7.1"
  }
 },
 "nbformat": 4,
 "nbformat_minor": 2
}
