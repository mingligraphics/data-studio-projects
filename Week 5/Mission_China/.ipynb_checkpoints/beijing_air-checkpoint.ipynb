{
 "cells": [
  {
   "cell_type": "code",
   "execution_count": 1,
   "metadata": {},
   "outputs": [],
   "source": [
    "import pandas as pd\n",
    "import seaborn as sns\n",
    "import matplotlib\n",
    "import matplotlib.pyplot as plt\n",
    "import glob\n",
    "\n",
    "matplotlib.rcParams['pdf.fonttype'] = 42"
   ]
  },
  {
   "cell_type": "code",
   "execution_count": 2,
   "metadata": {},
   "outputs": [],
   "source": [
    "li = []\n",
    "for i in range(12,17):\n",
    "    df = pd.read_csv('Chengdu_' + str(i) + '.csv',index_col=None, header=0)\n",
    "    li.append(df)\n",
    "    \n",
    "cd = pd.concat(li, axis=0, ignore_index=True)"
   ]
  },
  {
   "cell_type": "code",
   "execution_count": 3,
   "metadata": {},
   "outputs": [
    {
     "data": {
      "text/html": [
       "<div>\n",
       "<style scoped>\n",
       "    .dataframe tbody tr th:only-of-type {\n",
       "        vertical-align: middle;\n",
       "    }\n",
       "\n",
       "    .dataframe tbody tr th {\n",
       "        vertical-align: top;\n",
       "    }\n",
       "\n",
       "    .dataframe thead th {\n",
       "        text-align: right;\n",
       "    }\n",
       "</style>\n",
       "<table border=\"1\" class=\"dataframe\">\n",
       "  <thead>\n",
       "    <tr style=\"text-align: right;\">\n",
       "      <th></th>\n",
       "      <th>Site</th>\n",
       "      <th>Parameter</th>\n",
       "      <th>Date (LST)</th>\n",
       "      <th>Year</th>\n",
       "      <th>Month</th>\n",
       "      <th>Day</th>\n",
       "      <th>Hour</th>\n",
       "      <th>Value</th>\n",
       "      <th>Unit</th>\n",
       "      <th>Duration</th>\n",
       "      <th>QC Name</th>\n",
       "    </tr>\n",
       "  </thead>\n",
       "  <tbody>\n",
       "    <tr>\n",
       "      <th>0</th>\n",
       "      <td>Chengdu</td>\n",
       "      <td>PM2.5</td>\n",
       "      <td>2012-01-01 00:00</td>\n",
       "      <td>2012</td>\n",
       "      <td>1</td>\n",
       "      <td>1</td>\n",
       "      <td>0</td>\n",
       "      <td>-999</td>\n",
       "      <td>g/m</td>\n",
       "      <td>1 Hr</td>\n",
       "      <td>Missing</td>\n",
       "    </tr>\n",
       "    <tr>\n",
       "      <th>1</th>\n",
       "      <td>Chengdu</td>\n",
       "      <td>PM2.5</td>\n",
       "      <td>2012-01-01 01:00</td>\n",
       "      <td>2012</td>\n",
       "      <td>1</td>\n",
       "      <td>1</td>\n",
       "      <td>1</td>\n",
       "      <td>-999</td>\n",
       "      <td>g/m</td>\n",
       "      <td>1 Hr</td>\n",
       "      <td>Missing</td>\n",
       "    </tr>\n",
       "    <tr>\n",
       "      <th>2</th>\n",
       "      <td>Chengdu</td>\n",
       "      <td>PM2.5</td>\n",
       "      <td>2012-01-01 02:00</td>\n",
       "      <td>2012</td>\n",
       "      <td>1</td>\n",
       "      <td>1</td>\n",
       "      <td>2</td>\n",
       "      <td>-999</td>\n",
       "      <td>g/m</td>\n",
       "      <td>1 Hr</td>\n",
       "      <td>Missing</td>\n",
       "    </tr>\n",
       "    <tr>\n",
       "      <th>3</th>\n",
       "      <td>Chengdu</td>\n",
       "      <td>PM2.5</td>\n",
       "      <td>2012-01-01 03:00</td>\n",
       "      <td>2012</td>\n",
       "      <td>1</td>\n",
       "      <td>1</td>\n",
       "      <td>3</td>\n",
       "      <td>-999</td>\n",
       "      <td>g/m</td>\n",
       "      <td>1 Hr</td>\n",
       "      <td>Missing</td>\n",
       "    </tr>\n",
       "    <tr>\n",
       "      <th>4</th>\n",
       "      <td>Chengdu</td>\n",
       "      <td>PM2.5</td>\n",
       "      <td>2012-01-01 04:00</td>\n",
       "      <td>2012</td>\n",
       "      <td>1</td>\n",
       "      <td>1</td>\n",
       "      <td>4</td>\n",
       "      <td>-999</td>\n",
       "      <td>g/m</td>\n",
       "      <td>1 Hr</td>\n",
       "      <td>Missing</td>\n",
       "    </tr>\n",
       "  </tbody>\n",
       "</table>\n",
       "</div>"
      ],
      "text/plain": [
       "      Site Parameter        Date (LST)  Year  Month  Day  Hour  Value Unit  \\\n",
       "0  Chengdu     PM2.5  2012-01-01 00:00  2012      1    1     0   -999  g/m   \n",
       "1  Chengdu     PM2.5  2012-01-01 01:00  2012      1    1     1   -999  g/m   \n",
       "2  Chengdu     PM2.5  2012-01-01 02:00  2012      1    1     2   -999  g/m   \n",
       "3  Chengdu     PM2.5  2012-01-01 03:00  2012      1    1     3   -999  g/m   \n",
       "4  Chengdu     PM2.5  2012-01-01 04:00  2012      1    1     4   -999  g/m   \n",
       "\n",
       "  Duration  QC Name  \n",
       "0     1 Hr  Missing  \n",
       "1     1 Hr  Missing  \n",
       "2     1 Hr  Missing  \n",
       "3     1 Hr  Missing  \n",
       "4     1 Hr  Missing  "
      ]
     },
     "execution_count": 3,
     "metadata": {},
     "output_type": "execute_result"
    }
   ],
   "source": [
    "cd.head()"
   ]
  },
  {
   "cell_type": "code",
   "execution_count": 4,
   "metadata": {},
   "outputs": [],
   "source": [
    "li = []\n",
    "for i in range(10,17):\n",
    "    df = pd.read_csv('Beijing_' + str(i) + '.csv',index_col=None, header=0)\n",
    "    li.append(df)\n",
    "    \n",
    "bj = pd.concat(li, axis=0, ignore_index=True)"
   ]
  },
  {
   "cell_type": "code",
   "execution_count": 5,
   "metadata": {},
   "outputs": [],
   "source": [
    "li = []\n",
    "for i in range(11,17):\n",
    "    df = pd.read_csv('Shanghai_' + str(i) + '.csv',index_col=None, header=0)\n",
    "    li.append(df)\n",
    "    \n",
    "sh = pd.concat(li, axis=0, ignore_index=True)"
   ]
  },
  {
   "cell_type": "code",
   "execution_count": 6,
   "metadata": {},
   "outputs": [],
   "source": [
    "li = []\n",
    "for i in range(11,17):\n",
    "    df = pd.read_csv('Guangzhou_' + str(i) + '.csv',index_col=None, header=0)\n",
    "    li.append(df)\n",
    "    \n",
    "gz = pd.concat(li, axis=0, ignore_index=True)"
   ]
  },
  {
   "cell_type": "code",
   "execution_count": 7,
   "metadata": {},
   "outputs": [],
   "source": [
    "li = []\n",
    "for i in range(13,18):\n",
    "    df = pd.read_csv('Shenyang_' + str(i) + '.csv',index_col=None, header=0)\n",
    "    li.append(df)\n",
    "    \n",
    "sy = pd.concat(li, axis=0, ignore_index=True)"
   ]
  },
  {
   "cell_type": "code",
   "execution_count": 8,
   "metadata": {},
   "outputs": [],
   "source": [
    "li = []\n",
    "for i in range(10,17):\n",
    "    df = pd.read_csv('NY_' + str(i) + '.csv',index_col=None, header=0)\n",
    "    li.append(df)\n",
    "    \n",
    "ny = pd.concat(li, axis=0, ignore_index=True)"
   ]
  },
  {
   "cell_type": "code",
   "execution_count": 9,
   "metadata": {},
   "outputs": [
    {
     "data": {
      "text/plain": [
       "2012    8784\n",
       "2016    8784\n",
       "2015    8760\n",
       "2014    8760\n",
       "2013    8760\n",
       "2011    8760\n",
       "2010    8760\n",
       "Name: Year, dtype: int64"
      ]
     },
     "execution_count": 9,
     "metadata": {},
     "output_type": "execute_result"
    }
   ],
   "source": [
    "bj.Year.value_counts()"
   ]
  },
  {
   "cell_type": "code",
   "execution_count": 10,
   "metadata": {},
   "outputs": [
    {
     "data": {
      "text/plain": [
       "-999    2184\n",
       " 12      904\n",
       " 11      902\n",
       " 16      876\n",
       " 13      857\n",
       " 17      847\n",
       " 10      842\n",
       " 9       837\n",
       " 14      732\n",
       " 15      707\n",
       " 8       706\n",
       " 18      693\n",
       " 19      610\n",
       " 7       604\n",
       " 20      598\n",
       " 27      577\n",
       " 21      567\n",
       " 22      550\n",
       " 6       528\n",
       " 23      503\n",
       " 24      496\n",
       " 26      472\n",
       " 25      472\n",
       " 29      449\n",
       " 38      449\n",
       " 48      433\n",
       " 28      428\n",
       " 69      404\n",
       " 31      400\n",
       " 33      398\n",
       "        ... \n",
       " 471       1\n",
       " 582       1\n",
       " 516       1\n",
       " 648       1\n",
       " 593       1\n",
       " 744       1\n",
       " 514       1\n",
       " 802       1\n",
       " 994       1\n",
       " 810       1\n",
       " 618       1\n",
       "-4         1\n",
       " 731       1\n",
       " 603       1\n",
       " 518       1\n",
       " 539       1\n",
       " 586       1\n",
       " 625       1\n",
       " 530       1\n",
       " 649       1\n",
       " 521       1\n",
       " 547       1\n",
       " 611       1\n",
       " 858       1\n",
       " 666       1\n",
       " 634       1\n",
       " 659       1\n",
       " 761       1\n",
       " 776       1\n",
       " 671       1\n",
       "Name: Value, Length: 623, dtype: int64"
      ]
     },
     "execution_count": 10,
     "metadata": {},
     "output_type": "execute_result"
    }
   ],
   "source": [
    "bj.Value.value_counts()"
   ]
  },
  {
   "cell_type": "code",
   "execution_count": 11,
   "metadata": {},
   "outputs": [],
   "source": [
    "bj = bj[bj.Value != -999]\n",
    "cd = cd[cd.Value != -999]\n",
    "sh = sh[sh.Value != -999]\n",
    "gz = gz[gz.Value != -999]\n",
    "sy = sy[sy.Value != -999]"
   ]
  },
  {
   "cell_type": "code",
   "execution_count": 12,
   "metadata": {},
   "outputs": [],
   "source": [
    "bj10 = bj[bj.Year == 2010]\n",
    "rows = []\n",
    "for j in range(1, 13):\n",
    "    row = {}\n",
    "    row['Year'] = 2010\n",
    "    row['Value'] = bj10[bj10.Month == j].Value.mean().round()\n",
    "    row['Month'] = j    \n",
    "    rows.append(row)\n",
    "df10 = pd.DataFrame(rows)"
   ]
  },
  {
   "cell_type": "code",
   "execution_count": 13,
   "metadata": {},
   "outputs": [],
   "source": [
    "bj11 = bj[bj.Year == 2011]\n",
    "rows = []\n",
    "for j in range(1, 13):\n",
    "    row = {}\n",
    "    row['Year'] = 2011\n",
    "    row['Value'] = bj11[bj11.Month == j].Value.mean().round()\n",
    "    row['Month'] = j    \n",
    "    rows.append(row)\n",
    "df11 = pd.DataFrame(rows)\n",
    "\n",
    "bj12 = bj[bj.Year == 2012]\n",
    "rows = []\n",
    "for j in range(1, 13):\n",
    "    row = {}\n",
    "    row['Year'] = 2012\n",
    "    row['Value'] = bj12[bj12.Month == j].Value.mean().round()\n",
    "    row['Month'] = j    \n",
    "    rows.append(row)\n",
    "df12 = pd.DataFrame(rows)\n",
    "\n",
    "bj13 = bj[bj.Year == 2013]\n",
    "rows = []\n",
    "for j in range(1, 13):\n",
    "    row = {}\n",
    "    row['Year'] = 2013\n",
    "    row['Value'] = bj13[bj13.Month == j].Value.mean().round()\n",
    "    row['Month'] = j    \n",
    "    rows.append(row)\n",
    "df13 = pd.DataFrame(rows)\n",
    "\n",
    "bj14 = bj[bj.Year == 2014]\n",
    "rows = []\n",
    "for j in range(1, 13):\n",
    "    row = {}\n",
    "    row['Year'] = 2014\n",
    "    row['Value'] = bj14[bj14.Month == j].Value.mean().round()\n",
    "    row['Month'] = j    \n",
    "    rows.append(row)\n",
    "df14 = pd.DataFrame(rows)\n",
    "\n",
    "bj15 = bj[bj.Year == 2015]\n",
    "rows = []\n",
    "for j in range(1, 13):\n",
    "    row = {}\n",
    "    row['Year'] = 2015\n",
    "    row['Value'] = bj15[bj15.Month == j].Value.mean().round()\n",
    "    row['Month'] = j    \n",
    "    rows.append(row)\n",
    "df15 = pd.DataFrame(rows)\n",
    "\n",
    "bj16 = bj[bj.Year == 2016]\n",
    "rows = []\n",
    "for j in range(1, 13):\n",
    "    row = {}\n",
    "    row['Year'] = 2016\n",
    "    row['Value'] = bj16[bj16.Month == j].Value.mean().round()\n",
    "    row['Month'] = j    \n",
    "    rows.append(row)\n",
    "df16 = pd.DataFrame(rows)"
   ]
  },
  {
   "cell_type": "code",
   "execution_count": 14,
   "metadata": {},
   "outputs": [],
   "source": [
    "data_frames = [df10, df11, df12, df13, df14, df15, df16]\n",
    "\n",
    "bj_month = pd.concat(data_frames, ignore_index=True)"
   ]
  },
  {
   "cell_type": "code",
   "execution_count": 15,
   "metadata": {},
   "outputs": [],
   "source": [
    "sh1 = sh[sh.Year == 2011]\n",
    "rows = []\n",
    "for j in range(1, 13):\n",
    "    row = {}\n",
    "    row['Year'] = 2011\n",
    "    row['Value'] = sh1[sh1.Month == j].Value.mean()\n",
    "    row['Month'] = j    \n",
    "    rows.append(row)\n",
    "sh11 = pd.DataFrame(rows)\n",
    "\n",
    "sh2 = sh[sh.Year == 2012]\n",
    "rows = []\n",
    "for j in range(1, 13):\n",
    "    row = {}\n",
    "    row['Year'] = 2012\n",
    "    row['Value'] = sh2[sh2.Month == j].Value.mean()\n",
    "    row['Month'] = j    \n",
    "    rows.append(row)\n",
    "sh12 = pd.DataFrame(rows)\n",
    "\n",
    "sh3 = sh[sh.Year == 2013]\n",
    "rows = []\n",
    "for j in range(1, 13):\n",
    "    row = {}\n",
    "    row['Year'] = 2013\n",
    "    row['Value'] = sh3[sh3.Month == j].Value.mean()\n",
    "    row['Month'] = j    \n",
    "    rows.append(row)\n",
    "sh13 = pd.DataFrame(rows)\n",
    "\n",
    "sh4 = sh[sh.Year == 2014]\n",
    "rows = []\n",
    "for j in range(1, 13):\n",
    "    row = {}\n",
    "    row['Year'] = 2014\n",
    "    row['Value'] = sh4[sh4.Month == j].Value.mean()\n",
    "    row['Month'] = j    \n",
    "    rows.append(row)\n",
    "sh14 = pd.DataFrame(rows)\n",
    "\n",
    "sh5 = sh[sh.Year == 2015]\n",
    "rows = []\n",
    "for j in range(1, 13):\n",
    "    row = {}\n",
    "    row['Year'] = 2015\n",
    "    row['Value'] = sh5[sh5.Month == j].Value.mean()\n",
    "    row['Month'] = j    \n",
    "    rows.append(row)\n",
    "sh15 = pd.DataFrame(rows)\n",
    "\n",
    "sh6 = sh[sh.Year == 2016]\n",
    "rows = []\n",
    "for j in range(1, 13):\n",
    "    row = {}\n",
    "    row['Year'] = 2016\n",
    "    row['Value'] = sh6[sh6.Month == j].Value.mean()\n",
    "    row['Month'] = j    \n",
    "    rows.append(row)\n",
    "sh16 = pd.DataFrame(rows)"
   ]
  },
  {
   "cell_type": "code",
   "execution_count": 16,
   "metadata": {},
   "outputs": [],
   "source": [
    "data_frames = [sh11, sh12, sh13, sh14, sh15, sh16]\n",
    "\n",
    "sh_month = pd.concat(data_frames, ignore_index=True)"
   ]
  },
  {
   "cell_type": "code",
   "execution_count": 17,
   "metadata": {},
   "outputs": [],
   "source": [
    "cd2 = cd[cd.Year == 2012]\n",
    "rows = []\n",
    "for j in range(1, 13):\n",
    "    row = {}\n",
    "    row['Year'] = 2012\n",
    "    row['Value'] = cd2[cd2.Month == j].Value.mean()\n",
    "    row['Month'] = j    \n",
    "    rows.append(row)\n",
    "cd12 = pd.DataFrame(rows)\n",
    "\n",
    "cd3 = cd[cd.Year == 2013]\n",
    "rows = []\n",
    "for j in range(1, 13):\n",
    "    row = {}\n",
    "    row['Year'] = 2013\n",
    "    row['Value'] = cd3[cd3.Month == j].Value.mean()\n",
    "    row['Month'] = j    \n",
    "    rows.append(row)\n",
    "cd13 = pd.DataFrame(rows)\n",
    "\n",
    "cd4 = cd[cd.Year == 2014]\n",
    "rows = []\n",
    "for j in range(1, 13):\n",
    "    row = {}\n",
    "    row['Year'] = 2014\n",
    "    row['Value'] = cd4[cd4.Month == j].Value.mean()\n",
    "    row['Month'] = j    \n",
    "    rows.append(row)\n",
    "cd14 = pd.DataFrame(rows)\n",
    "\n",
    "cd5 = cd[cd.Year == 2015]\n",
    "rows = []\n",
    "for j in range(1, 13):\n",
    "    row = {}\n",
    "    row['Year'] = 2015\n",
    "    row['Value'] = cd5[cd5.Month == j].Value.mean()\n",
    "    row['Month'] = j    \n",
    "    rows.append(row)\n",
    "cd15 = pd.DataFrame(rows)\n",
    "\n",
    "cd6 = cd[cd.Year == 2016]\n",
    "rows = []\n",
    "for j in range(1, 13):\n",
    "    row = {}\n",
    "    row['Year'] = 2016\n",
    "    row['Value'] = cd6[cd6.Month == j].Value.mean()\n",
    "    row['Month'] = j    \n",
    "    rows.append(row)\n",
    "cd16 = pd.DataFrame(rows)"
   ]
  },
  {
   "cell_type": "code",
   "execution_count": 18,
   "metadata": {},
   "outputs": [],
   "source": [
    "data_frames = [cd12, cd13, cd14, cd15, cd16]\n",
    "\n",
    "cd_month = pd.concat(data_frames, ignore_index=True)"
   ]
  },
  {
   "cell_type": "code",
   "execution_count": 19,
   "metadata": {},
   "outputs": [],
   "source": [
    "sy3 = sy[sy.Year == 2013]\n",
    "rows = []\n",
    "for j in range(1, 13):\n",
    "    row = {}\n",
    "    row['Year'] = 2013\n",
    "    row['Value'] = sy3[sy3.Month == j].Value.mean()\n",
    "    row['Month'] = j    \n",
    "    rows.append(row)\n",
    "sy13 = pd.DataFrame(rows)\n",
    "\n",
    "sy4 = sy[sy.Year == 2014]\n",
    "rows = []\n",
    "for j in range(1, 13):\n",
    "    row = {}\n",
    "    row['Year'] = 2014\n",
    "    row['Value'] = sy4[sy4.Month == j].Value.mean()\n",
    "    row['Month'] = j    \n",
    "    rows.append(row)\n",
    "sy14 = pd.DataFrame(rows)\n",
    "\n",
    "sy5 = sy[sy.Year == 2015]\n",
    "rows = []\n",
    "for j in range(1, 13):\n",
    "    row = {}\n",
    "    row['Year'] = 2015\n",
    "    row['Value'] = sy5[sy5.Month == j].Value.mean()\n",
    "    row['Month'] = j    \n",
    "    rows.append(row)\n",
    "sy15 = pd.DataFrame(rows)\n",
    "\n",
    "sy6 = sy[sy.Year == 2016]\n",
    "rows = []\n",
    "for j in range(1, 13):\n",
    "    row = {}\n",
    "    row['Year'] = 2016\n",
    "    row['Value'] = sy6[sy6.Month == j].Value.mean()\n",
    "    row['Month'] = j    \n",
    "    rows.append(row)\n",
    "sy16 = pd.DataFrame(rows)\n",
    "\n",
    "sy7 = sy[sy.Year == 2017]\n",
    "rows = []\n",
    "for j in range(1, 13):\n",
    "    row = {}\n",
    "    row['Year'] = 2017\n",
    "    row['Value'] = sy7[sy7.Month == j].Value.mean()\n",
    "    row['Month'] = j    \n",
    "    rows.append(row)\n",
    "sy17 = pd.DataFrame(rows)"
   ]
  },
  {
   "cell_type": "code",
   "execution_count": 20,
   "metadata": {},
   "outputs": [],
   "source": [
    "data_frames = [sy13, sy14, sy15, sy16, sy17]\n",
    "\n",
    "sy_month = pd.concat(data_frames, ignore_index=True)"
   ]
  },
  {
   "cell_type": "code",
   "execution_count": 21,
   "metadata": {},
   "outputs": [],
   "source": [
    "gz1 = gz[gz.Year == 2011]\n",
    "rows = []\n",
    "for j in range(1, 13):\n",
    "    row = {}\n",
    "    row['Year'] = 2011\n",
    "    row['Value'] = gz1[gz1.Month == j].Value.mean()\n",
    "    row['Month'] = j    \n",
    "    rows.append(row)\n",
    "gz11 = pd.DataFrame(rows)\n",
    "\n",
    "gz2 = gz[gz.Year == 2012]\n",
    "rows = []\n",
    "for j in range(1, 13):\n",
    "    row = {}\n",
    "    row['Year'] = 2012\n",
    "    row['Value'] = gz2[gz2.Month == j].Value.mean()\n",
    "    row['Month'] = j    \n",
    "    rows.append(row)\n",
    "gz12 = pd.DataFrame(rows)\n",
    "\n",
    "gz3 = gz[gz.Year == 2013]\n",
    "rows = []\n",
    "for j in range(1, 13):\n",
    "    row = {}\n",
    "    row['Year'] = 2013\n",
    "    row['Value'] = gz3[gz3.Month == j].Value.mean()\n",
    "    row['Month'] = j    \n",
    "    rows.append(row)\n",
    "gz13 = pd.DataFrame(rows)\n",
    "\n",
    "gz4 = gz[gz.Year == 2014]\n",
    "rows = []\n",
    "for j in range(1, 13):\n",
    "    row = {}\n",
    "    row['Year'] = 2014\n",
    "    row['Value'] = gz4[gz4.Month == j].Value.mean()\n",
    "    row['Month'] = j    \n",
    "    rows.append(row)\n",
    "gz14 = pd.DataFrame(rows)\n",
    "\n",
    "gz5 = gz[gz.Year == 2015]\n",
    "rows = []\n",
    "for j in range(1, 13):\n",
    "    row = {}\n",
    "    row['Year'] = 2015\n",
    "    row['Value'] = gz5[gz5.Month == j].Value.mean()\n",
    "    row['Month'] = j    \n",
    "    rows.append(row)\n",
    "gz15 = pd.DataFrame(rows)\n",
    "\n",
    "gz6 = gz[gz.Year == 2016]\n",
    "rows = []\n",
    "for j in range(1, 13):\n",
    "    row = {}\n",
    "    row['Year'] = 2016\n",
    "    row['Value'] = gz6[gz6.Month == j].Value.mean()\n",
    "    row['Month'] = j    \n",
    "    rows.append(row)\n",
    "gz16 = pd.DataFrame(rows)"
   ]
  },
  {
   "cell_type": "code",
   "execution_count": 22,
   "metadata": {},
   "outputs": [],
   "source": [
    "data_frames = [gz11, gz12, gz13, gz14, gz15, gz16]\n",
    "\n",
    "gz_month = pd.concat(data_frames, ignore_index=True)"
   ]
  },
  {
   "cell_type": "code",
   "execution_count": 23,
   "metadata": {},
   "outputs": [
    {
     "data": {
      "image/png": "[encoded data removed]",
      "text/plain": [
       "<Figure size 432x288 with 2 Axes>"
      ]
     },
     "metadata": {
      "needs_background": "light"
     },
     "output_type": "display_data"
    }
   ],
   "source": [
    "df1 = bj_month.pivot(\"Month\", \"Year\", \"Value\")\n",
    "ax = sns.heatmap(df1,cmap=\"YlGnBu\")"
   ]
  },
  {
   "cell_type": "code",
   "execution_count": null,
   "metadata": {},
   "outputs": [],
   "source": []
  },
  {
   "cell_type": "code",
   "execution_count": 24,
   "metadata": {},
   "outputs": [
    {
     "data": {
      "text/html": [
       "<div>\n",
       "<style scoped>\n",
       "    .dataframe tbody tr th:only-of-type {\n",
       "        vertical-align: middle;\n",
       "    }\n",
       "\n",
       "    .dataframe tbody tr th {\n",
       "        vertical-align: top;\n",
       "    }\n",
       "\n",
       "    .dataframe thead th {\n",
       "        text-align: right;\n",
       "    }\n",
       "</style>\n",
       "<table border=\"1\" class=\"dataframe\">\n",
       "  <thead>\n",
       "    <tr style=\"text-align: right;\">\n",
       "      <th></th>\n",
       "      <th>Site</th>\n",
       "      <th>Parameter</th>\n",
       "      <th>Date (LST)</th>\n",
       "      <th>Year</th>\n",
       "      <th>Month</th>\n",
       "      <th>Day</th>\n",
       "      <th>Hour</th>\n",
       "      <th>Value</th>\n",
       "      <th>Unit</th>\n",
       "      <th>Duration</th>\n",
       "      <th>QC Name</th>\n",
       "    </tr>\n",
       "  </thead>\n",
       "  <tbody>\n",
       "    <tr>\n",
       "      <th>23</th>\n",
       "      <td>Beijing</td>\n",
       "      <td>PM2.5</td>\n",
       "      <td>2010-01-01 23:00</td>\n",
       "      <td>2010</td>\n",
       "      <td>1</td>\n",
       "      <td>1</td>\n",
       "      <td>23</td>\n",
       "      <td>129</td>\n",
       "      <td>g/m</td>\n",
       "      <td>1 Hr</td>\n",
       "      <td>Valid</td>\n",
       "    </tr>\n",
       "    <tr>\n",
       "      <th>24</th>\n",
       "      <td>Beijing</td>\n",
       "      <td>PM2.5</td>\n",
       "      <td>2010-01-02 00:00</td>\n",
       "      <td>2010</td>\n",
       "      <td>1</td>\n",
       "      <td>2</td>\n",
       "      <td>0</td>\n",
       "      <td>148</td>\n",
       "      <td>g/m</td>\n",
       "      <td>1 Hr</td>\n",
       "      <td>Valid</td>\n",
       "    </tr>\n",
       "    <tr>\n",
       "      <th>25</th>\n",
       "      <td>Beijing</td>\n",
       "      <td>PM2.5</td>\n",
       "      <td>2010-01-02 01:00</td>\n",
       "      <td>2010</td>\n",
       "      <td>1</td>\n",
       "      <td>2</td>\n",
       "      <td>1</td>\n",
       "      <td>159</td>\n",
       "      <td>g/m</td>\n",
       "      <td>1 Hr</td>\n",
       "      <td>Valid</td>\n",
       "    </tr>\n",
       "    <tr>\n",
       "      <th>26</th>\n",
       "      <td>Beijing</td>\n",
       "      <td>PM2.5</td>\n",
       "      <td>2010-01-02 02:00</td>\n",
       "      <td>2010</td>\n",
       "      <td>1</td>\n",
       "      <td>2</td>\n",
       "      <td>2</td>\n",
       "      <td>181</td>\n",
       "      <td>g/m</td>\n",
       "      <td>1 Hr</td>\n",
       "      <td>Valid</td>\n",
       "    </tr>\n",
       "    <tr>\n",
       "      <th>27</th>\n",
       "      <td>Beijing</td>\n",
       "      <td>PM2.5</td>\n",
       "      <td>2010-01-02 03:00</td>\n",
       "      <td>2010</td>\n",
       "      <td>1</td>\n",
       "      <td>2</td>\n",
       "      <td>3</td>\n",
       "      <td>138</td>\n",
       "      <td>g/m</td>\n",
       "      <td>1 Hr</td>\n",
       "      <td>Valid</td>\n",
       "    </tr>\n",
       "  </tbody>\n",
       "</table>\n",
       "</div>"
      ],
      "text/plain": [
       "       Site Parameter        Date (LST)  Year  Month  Day  Hour  Value Unit  \\\n",
       "23  Beijing     PM2.5  2010-01-01 23:00  2010      1    1    23    129  g/m   \n",
       "24  Beijing     PM2.5  2010-01-02 00:00  2010      1    2     0    148  g/m   \n",
       "25  Beijing     PM2.5  2010-01-02 01:00  2010      1    2     1    159  g/m   \n",
       "26  Beijing     PM2.5  2010-01-02 02:00  2010      1    2     2    181  g/m   \n",
       "27  Beijing     PM2.5  2010-01-02 03:00  2010      1    2     3    138  g/m   \n",
       "\n",
       "   Duration QC Name  \n",
       "23     1 Hr   Valid  \n",
       "24     1 Hr   Valid  \n",
       "25     1 Hr   Valid  \n",
       "26     1 Hr   Valid  \n",
       "27     1 Hr   Valid  "
      ]
     },
     "execution_count": 24,
     "metadata": {},
     "output_type": "execute_result"
    }
   ],
   "source": [
    "bj.head()"
   ]
  },
  {
   "cell_type": "code",
   "execution_count": 49,
   "metadata": {},
   "outputs": [],
   "source": [
    "bj_unhealthy1 = bj[bj.Value > 200]\n",
    "bj_unhealthy2 = bj[bj.Value > 300]\n",
    "bj_unhealthy3 = bj[bj.Value > 400]\n",
    "bj_unhealthy4 = bj[bj.Value > 500]"
   ]
  },
  {
   "cell_type": "code",
   "execution_count": 26,
   "metadata": {},
   "outputs": [],
   "source": [
    "cd_unhealthy = cd[cd.Value > 200]"
   ]
  },
  {
   "cell_type": "code",
   "execution_count": 27,
   "metadata": {},
   "outputs": [],
   "source": [
    "sh_unhealthy = sh[sh.Value > 200]\n",
    "sy_unhealthy = sy[sy.Value > 200]\n",
    "gz_unhealthy = gz[gz.Value > 200]"
   ]
  },
  {
   "cell_type": "code",
   "execution_count": 28,
   "metadata": {},
   "outputs": [],
   "source": [
    "# bj_unhealthy['Date'] = bj_unhealthy['Date (LST)'].str.extract('(.*) .*')\n",
    "# cd_unhealthy['Date'] = cd_unhealthy['Date (LST)'].str.extract('(.*) .*')\n"
   ]
  },
  {
   "cell_type": "code",
   "execution_count": 50,
   "metadata": {},
   "outputs": [],
   "source": [
    "bj_unhealthy1_date = bj_unhealthy1[['Year','Month','Day']]\n",
    "cd_unhealthy_date = cd_unhealthy[['Year','Month','Day']]\n",
    "sh_unhealthy_date = sh_unhealthy[['Year','Month','Day']]\n",
    "gz_unhealthy_date = gz_unhealthy[['Year','Month','Day']]\n",
    "sy_unhealthy_date = sy_unhealthy[['Year','Month','Day']]"
   ]
  },
  {
   "cell_type": "code",
   "execution_count": 51,
   "metadata": {},
   "outputs": [],
   "source": [
    "bj_unhealthy2_date = bj_unhealthy2[['Year','Month','Day']]\n",
    "bj_unhealthy3_date = bj_unhealthy3[['Year','Month','Day']]\n",
    "bj_unhealthy4_date = bj_unhealthy4[['Year','Month','Day']]"
   ]
  },
  {
   "cell_type": "code",
   "execution_count": 31,
   "metadata": {},
   "outputs": [],
   "source": [
    "# bj_unhealthy_11 = bj_unhealthy[bj_unhealthy.Year == 2011]\n",
    "# bj_unhealthy_11"
   ]
  },
  {
   "cell_type": "code",
   "execution_count": 52,
   "metadata": {},
   "outputs": [],
   "source": [
    "bj_unhealthy1_date = bj_unhealthy1_date.drop_duplicates(keep='first')\n",
    "cd_unhealthy_date = cd_unhealthy_date.drop_duplicates(keep='first')\n",
    "sh_unhealthy_date = sh_unhealthy_date.drop_duplicates(keep='first')\n",
    "gz_unhealthy_date = gz_unhealthy_date.drop_duplicates(keep='first')\n",
    "sy_unhealthy_date = sy_unhealthy_date.drop_duplicates(keep='first')"
   ]
  },
  {
   "cell_type": "code",
   "execution_count": 53,
   "metadata": {},
   "outputs": [],
   "source": [
    "bj_unhealthy2_date = bj_unhealthy2_date.drop_duplicates(keep='first')\n",
    "bj_unhealthy3_date = bj_unhealthy3_date.drop_duplicates(keep='first')\n",
    "bj_unhealthy4_date = bj_unhealthy4_date.drop_duplicates(keep='first')"
   ]
  },
  {
   "cell_type": "code",
   "execution_count": 54,
   "metadata": {},
   "outputs": [],
   "source": [
    "bj_1 = bj_unhealthy1_date.Year.value_counts()\n",
    "bj1 = pd.DataFrame({'year':bj_1.index, 'Number':bj_1.values})\n",
    "\n",
    "bj_2 = bj_unhealthy2_date.Year.value_counts()\n",
    "bj2 = pd.DataFrame({'year':bj_2.index, 'Number':bj_2.values})"
   ]
  },
  {
   "cell_type": "code",
   "execution_count": 55,
   "metadata": {},
   "outputs": [],
   "source": [
    "bj_3 = bj_unhealthy3_date.Year.value_counts()\n",
    "bj3 = pd.DataFrame({'year':bj_3.index, 'Number':bj_3.values})"
   ]
  },
  {
   "cell_type": "code",
   "execution_count": 56,
   "metadata": {},
   "outputs": [],
   "source": [
    "bj_4 = bj_unhealthy4_date.Year.value_counts()\n",
    "bj4 = pd.DataFrame({'year':bj_4.index, 'Number':bj_4.values})"
   ]
  },
  {
   "cell_type": "code",
   "execution_count": 57,
   "metadata": {},
   "outputs": [],
   "source": [
    "bj1['Cat'] = 200"
   ]
  },
  {
   "cell_type": "code",
   "execution_count": 58,
   "metadata": {},
   "outputs": [
    {
     "data": {
      "text/html": [
       "<div>\n",
       "<style scoped>\n",
       "    .dataframe tbody tr th:only-of-type {\n",
       "        vertical-align: middle;\n",
       "    }\n",
       "\n",
       "    .dataframe tbody tr th {\n",
       "        vertical-align: top;\n",
       "    }\n",
       "\n",
       "    .dataframe thead th {\n",
       "        text-align: right;\n",
       "    }\n",
       "</style>\n",
       "<table border=\"1\" class=\"dataframe\">\n",
       "  <thead>\n",
       "    <tr style=\"text-align: right;\">\n",
       "      <th></th>\n",
       "      <th>year</th>\n",
       "      <th>Number</th>\n",
       "      <th>Cat</th>\n",
       "    </tr>\n",
       "  </thead>\n",
       "  <tbody>\n",
       "    <tr>\n",
       "      <th>0</th>\n",
       "      <td>2013</td>\n",
       "      <td>31</td>\n",
       "      <td>400</td>\n",
       "    </tr>\n",
       "    <tr>\n",
       "      <th>1</th>\n",
       "      <td>2010</td>\n",
       "      <td>25</td>\n",
       "      <td>400</td>\n",
       "    </tr>\n",
       "    <tr>\n",
       "      <th>2</th>\n",
       "      <td>2014</td>\n",
       "      <td>21</td>\n",
       "      <td>400</td>\n",
       "    </tr>\n",
       "    <tr>\n",
       "      <th>3</th>\n",
       "      <td>2011</td>\n",
       "      <td>19</td>\n",
       "      <td>400</td>\n",
       "    </tr>\n",
       "    <tr>\n",
       "      <th>4</th>\n",
       "      <td>2016</td>\n",
       "      <td>16</td>\n",
       "      <td>400</td>\n",
       "    </tr>\n",
       "    <tr>\n",
       "      <th>5</th>\n",
       "      <td>2015</td>\n",
       "      <td>15</td>\n",
       "      <td>400</td>\n",
       "    </tr>\n",
       "    <tr>\n",
       "      <th>6</th>\n",
       "      <td>2012</td>\n",
       "      <td>11</td>\n",
       "      <td>400</td>\n",
       "    </tr>\n",
       "  </tbody>\n",
       "</table>\n",
       "</div>"
      ],
      "text/plain": [
       "   year  Number  Cat\n",
       "0  2013      31  400\n",
       "1  2010      25  400\n",
       "2  2014      21  400\n",
       "3  2011      19  400\n",
       "4  2016      16  400\n",
       "5  2015      15  400\n",
       "6  2012      11  400"
      ]
     },
     "execution_count": 58,
     "metadata": {},
     "output_type": "execute_result"
    }
   ],
   "source": [
    "bj2['Cat'] = 300\n",
    "bj3['Cat'] = 400\n",
    "bj4['Cat'] = 500\n",
    "bj3"
   ]
  },
  {
   "cell_type": "code",
   "execution_count": 59,
   "metadata": {},
   "outputs": [],
   "source": [
    "bj_t = pd.concat([bj1,bj2],ignore_index=True)"
   ]
  },
  {
   "cell_type": "code",
   "execution_count": 60,
   "metadata": {},
   "outputs": [],
   "source": [
    "bj_o = pd.concat([bj_t,bj3],ignore_index=True)"
   ]
  },
  {
   "cell_type": "code",
   "execution_count": 63,
   "metadata": {},
   "outputs": [],
   "source": [
    "bj_total = pd.concat([bj_o,bj4],ignore_index=True)"
   ]
  },
  {
   "cell_type": "code",
   "execution_count": null,
   "metadata": {},
   "outputs": [],
   "source": [
    "axbj1 = bj_unhealthy1_date.Year.value_counts().sort_index().plot(kind='bar')\n",
    "plt.rcParams[\"figure.figsize\"] = (20,5)\n",
    "plt.savefig(\"severe.pdf\")"
   ]
  },
  {
   "cell_type": "code",
   "execution_count": 62,
   "metadata": {},
   "outputs": [
    {
     "data": {
      "image/png": "[encoded data removed]",
      "text/plain": [
       "<Figure size 1440x360 with 1 Axes>"
      ]
     },
     "metadata": {
      "needs_background": "light"
     },
     "output_type": "display_data"
    }
   ],
   "source": [
    "plt.rcParams[\"figure.figsize\"] = (20,5)\n",
    "sns.barplot(x=\"year\", hue=\"Cat\", y=\"Number\", data=bj_total)\n",
    "plt.show()"
   ]
  },
  {
   "cell_type": "code",
   "execution_count": null,
   "metadata": {},
   "outputs": [],
   "source": [
    "axcd = cd_unhealthy_date.Year.value_counts().sort_index().plot(kind='bar')\n",
    "axcd.set_ylim([0, 140])"
   ]
  },
  {
   "cell_type": "code",
   "execution_count": null,
   "metadata": {},
   "outputs": [],
   "source": [
    "axsh = sh_unhealthy_date.Year.value_counts().sort_index().plot(kind='bar')\n",
    "axsh.set_ylim([0, 140])"
   ]
  },
  {
   "cell_type": "code",
   "execution_count": null,
   "metadata": {},
   "outputs": [],
   "source": [
    "axgz = gz_unhealthy_date.Year.value_counts().sort_index().plot(kind='bar')\n",
    "axgz.set_ylim([0, 140])"
   ]
  },
  {
   "cell_type": "code",
   "execution_count": null,
   "metadata": {},
   "outputs": [],
   "source": [
    "axsy = sy_unhealthy_date.Year.value_counts().sort_index().plot(kind='bar')\n",
    "axsy.set_ylim([0, 140])"
   ]
  },
  {
   "cell_type": "code",
   "execution_count": null,
   "metadata": {},
   "outputs": [],
   "source": [
    "ny['Daily Mean PM2.5 Concentration'].value_counts()"
   ]
  },
  {
   "cell_type": "code",
   "execution_count": null,
   "metadata": {},
   "outputs": [],
   "source": [
    "ny.dtypes"
   ]
  },
  {
   "cell_type": "code",
   "execution_count": null,
   "metadata": {},
   "outputs": [],
   "source": [
    "ny['Date'] = pd.to_datetime(ny['Date'])"
   ]
  },
  {
   "cell_type": "code",
   "execution_count": null,
   "metadata": {},
   "outputs": [],
   "source": [
    "ny['Year'] = ny['Date'].dt.year"
   ]
  },
  {
   "cell_type": "code",
   "execution_count": null,
   "metadata": {},
   "outputs": [],
   "source": [
    "ny['Month'] = ny['Date'].dt.month"
   ]
  },
  {
   "cell_type": "code",
   "execution_count": null,
   "metadata": {},
   "outputs": [],
   "source": [
    "ny['Day'] = ny['Date'].dt.day"
   ]
  },
  {
   "cell_type": "code",
   "execution_count": null,
   "metadata": {},
   "outputs": [],
   "source": [
    "ny = ny[['Year','Month','Day','Daily Mean PM2.5 Concentration']]"
   ]
  },
  {
   "cell_type": "code",
   "execution_count": null,
   "metadata": {},
   "outputs": [],
   "source": [
    "ny"
   ]
  },
  {
   "cell_type": "code",
   "execution_count": null,
   "metadata": {},
   "outputs": [],
   "source": [
    "ny0 = ny[ny.Year == 2010]\n",
    "rows = []\n",
    "for j in range(1, 13):\n",
    "    row = {}\n",
    "    row['Year'] = 2010\n",
    "    row['Value'] = ny0[ny0.Month == j]['Daily Mean PM2.5 Concentration'].mean()\n",
    "    row['Month'] = j    \n",
    "    rows.append(row)\n",
    "ny10 = pd.DataFrame(rows)\n",
    "\n",
    "ny1 = ny[ny.Year == 2011]\n",
    "rows = []\n",
    "for j in range(1, 13):\n",
    "    row = {}\n",
    "    row['Year'] = 2011\n",
    "    row['Value'] = ny1[ny1.Month == j]['Daily Mean PM2.5 Concentration'].mean()\n",
    "    row['Month'] = j    \n",
    "    rows.append(row)\n",
    "ny11 = pd.DataFrame(rows)\n",
    "\n",
    "ny2 = ny[ny.Year == 2012]\n",
    "rows = []\n",
    "for j in range(1, 13):\n",
    "    row = {}\n",
    "    row['Year'] = 2012\n",
    "    row['Value'] = ny2[ny2.Month == j]['Daily Mean PM2.5 Concentration'].mean()\n",
    "    row['Month'] = j    \n",
    "    rows.append(row)\n",
    "ny12 = pd.DataFrame(rows)\n",
    "\n",
    "ny3 = ny[ny.Year == 2013]\n",
    "rows = []\n",
    "for j in range(1, 13):\n",
    "    row = {}\n",
    "    row['Year'] = 2013\n",
    "    row['Value'] = ny3[ny3.Month == j]['Daily Mean PM2.5 Concentration'].mean()\n",
    "    row['Month'] = j    \n",
    "    rows.append(row)\n",
    "ny13 = pd.DataFrame(rows)\n",
    "\n",
    "ny4 = ny[ny.Year == 2014]\n",
    "rows = []\n",
    "for j in range(1, 13):\n",
    "    row = {}\n",
    "    row['Year'] = 2014\n",
    "    row['Value'] = ny4[ny4.Month == j]['Daily Mean PM2.5 Concentration'].mean()\n",
    "    row['Month'] = j    \n",
    "    rows.append(row)\n",
    "ny14 = pd.DataFrame(rows)\n",
    "\n",
    "ny5 = ny[ny.Year == 2015]\n",
    "rows = []\n",
    "for j in range(1, 13):\n",
    "    row = {}\n",
    "    row['Year'] = 2015\n",
    "    row['Value'] = ny5[ny5.Month == j]['Daily Mean PM2.5 Concentration'].mean()\n",
    "    row['Month'] = j    \n",
    "    rows.append(row)\n",
    "ny15 = pd.DataFrame(rows)\n",
    "\n",
    "ny6 = ny[ny.Year == 2016]\n",
    "rows = []\n",
    "for j in range(1, 13):\n",
    "    row = {}\n",
    "    row['Year'] = 2016\n",
    "    row['Value'] = ny6[ny6.Month == j]['Daily Mean PM2.5 Concentration'].mean()\n",
    "    row['Month'] = j    \n",
    "    rows.append(row)\n",
    "ny16 = pd.DataFrame(rows)"
   ]
  },
  {
   "cell_type": "code",
   "execution_count": null,
   "metadata": {},
   "outputs": [],
   "source": [
    "data_frames = [ny10, ny11, ny12, ny13, ny14, ny15, ny16]\n",
    "\n",
    "ny_month = pd.concat(data_frames, ignore_index=True)"
   ]
  },
  {
   "cell_type": "code",
   "execution_count": null,
   "metadata": {},
   "outputs": [],
   "source": [
    "ny_month = ny_month.dropna()"
   ]
  },
  {
   "cell_type": "code",
   "execution_count": null,
   "metadata": {},
   "outputs": [],
   "source": [
    "ny_month"
   ]
  },
  {
   "cell_type": "code",
   "execution_count": null,
   "metadata": {},
   "outputs": [],
   "source": [
    "ny10"
   ]
  },
  {
   "cell_type": "code",
   "execution_count": null,
   "metadata": {},
   "outputs": [],
   "source": [
    "ax_bj = bj_month.plot(y='Value')\n",
    "ny_month.plot(ax=ax_bj, y='Value')\n",
    "sh_month.plot(ax=ax_bj,y='Value')\n",
    "# cd_month.plot(ax=ax_bj,y='Value')\n",
    "# gz_month.plot(ax=ax_bj,y='Value')\n",
    "plt.rcParams[\"figure.figsize\"] = (20,5)\n",
    "plt.savefig(\"month.pdf\")"
   ]
  },
  {
   "cell_type": "code",
   "execution_count": null,
   "metadata": {},
   "outputs": [],
   "source": [
    "gz_month = gz_month.dropna()"
   ]
  },
  {
   "cell_type": "code",
   "execution_count": null,
   "metadata": {},
   "outputs": [],
   "source": [
    "ax_bj16 = sns.lineplot(x='Month',y='Value',hue='Year',data=bj_month)\n",
    "ax_bj16.set_xlim(1,12)\n",
    "ax_bj16.set_ylim(0,200)\n",
    "plt.savefig(\"bj.pdf\")"
   ]
  },
  {
   "cell_type": "code",
   "execution_count": null,
   "metadata": {},
   "outputs": [],
   "source": []
  }
 ],
 "metadata": {
  "kernelspec": {
   "display_name": "Python 3",
   "language": "python",
   "name": "python3"
  },
  "language_info": {
   "codemirror_mode": {
    "name": "ipython",
    "version": 3
   },
   "file_extension": ".py",
   "mimetype": "text/x-python",
   "name": "python",
   "nbconvert_exporter": "python",
   "pygments_lexer": "ipython3",
   "version": "3.7.1"
  }
 },
 "nbformat": 4,
 "nbformat_minor": 2
}
